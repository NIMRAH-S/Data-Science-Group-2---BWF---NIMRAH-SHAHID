{
 "cells": [
  {
   "cell_type": "code",
   "execution_count": 1,
   "id": "89c5b668-4db1-407f-9271-109121fe4198",
   "metadata": {},
   "outputs": [
    {
     "name": "stdout",
     "output_type": "stream",
     "text": [
      "Bytewise Internship Task 3\n"
     ]
    }
   ],
   "source": [
    "print(\"Bytewise Internship Task 3\")"
   ]
  },
  {
   "cell_type": "code",
   "execution_count": null,
   "id": "a82fb879-df1a-4b2d-9f45-1646f1a235db",
   "metadata": {},
   "outputs": [],
   "source": []
  }
 ],
 "metadata": {
  "kernelspec": {
   "display_name": "Python 3 (ipykernel)",
   "language": "python",
   "name": "python3"
  },
  "language_info": {
   "codemirror_mode": {
    "name": "ipython",
    "version": 3
   },
   "file_extension": ".py",
   "mimetype": "text/x-python",
   "name": "python",
   "nbconvert_exporter": "python",
   "pygments_lexer": "ipython3",
   "version": "3.12.4"
  }
 },
 "nbformat": 4,
 "nbformat_minor": 5
}
