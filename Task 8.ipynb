{
 "cells": [
  {
   "cell_type": "code",
   "execution_count": 1,
   "id": "941aaf5b-c875-4538-97e7-f3427d1da39b",
   "metadata": {},
   "outputs": [
    {
     "name": "stdout",
     "output_type": "stream",
     "text": [
      "\n",
      "Inventory Management System\n",
      "1. Add Product\n",
      "2. Update Stock\n",
      "3. Display All Products\n",
      "4. Display Products by Category\n",
      "5. Exit\n"
     ]
    },
    {
     "name": "stdin",
     "output_type": "stream",
     "text": [
      "Enter your choice:  1\n",
      "Enter product ID:  12345\n",
      "Enter product name:  milk\n",
      "Enter product category:  liquid\n",
      "Enter stock quantity:  2\n"
     ]
    },
    {
     "name": "stdout",
     "output_type": "stream",
     "text": [
      "Product milk added successfully.\n",
      "\n",
      "Inventory Management System\n",
      "1. Add Product\n",
      "2. Update Stock\n",
      "3. Display All Products\n",
      "4. Display Products by Category\n",
      "5. Exit\n"
     ]
    },
    {
     "name": "stdin",
     "output_type": "stream",
     "text": [
      "Enter your choice:  3\n"
     ]
    },
    {
     "name": "stdout",
     "output_type": "stream",
     "text": [
      "\n",
      "All Products:\n",
      "ID: 12345, Name: milk, Category: liquid, Stock: 2\n",
      "\n",
      "Inventory Management System\n",
      "1. Add Product\n",
      "2. Update Stock\n",
      "3. Display All Products\n",
      "4. Display Products by Category\n",
      "5. Exit\n"
     ]
    },
    {
     "name": "stdin",
     "output_type": "stream",
     "text": [
      "Enter your choice:  5\n"
     ]
    },
    {
     "name": "stdout",
     "output_type": "stream",
     "text": [
      "Exiting the Inventory Management System.\n"
     ]
    }
   ],
   "source": [
    "# Inventory Management System\n",
    "\n",
    "products = {}  # Dictionary to store product details\n",
    "product_order = []  # List to maintain the order of product additions\n",
    "categories = set()  # Set to track unique categories\n",
    "\n",
    "def add_product(product_id, name, category, stock):\n",
    "    if product_id in products:\n",
    "        print(f\"Product ID {product_id} already exists.\")\n",
    "        return\n",
    "    \n",
    "    product_info = (name, category)  # Tuple to store immutable product information\n",
    "    products[product_id] = {'info': product_info, 'stock': stock}\n",
    "    product_order.append(product_id)\n",
    "    categories.add(category)\n",
    "    print(f\"Product {name} added successfully.\")\n",
    "\n",
    "def update_stock(product_id, quantity):\n",
    "    if product_id in products:\n",
    "        products[product_id]['stock'] += quantity\n",
    "        print(f\"Stock updated for product ID {product_id}. New stock: {products[product_id]['stock']}\")\n",
    "    else:\n",
    "        print(f\"Product ID {product_id} not found.\")\n",
    "\n",
    "def display_products():\n",
    "    print(\"\\nAll Products:\")\n",
    "    for product_id in product_order:\n",
    "        name, category = products[product_id]['info']\n",
    "        stock = products[product_id]['stock']\n",
    "        print(f\"ID: {product_id}, Name: {name}, Category: {category}, Stock: {stock}\")\n",
    "\n",
    "def display_by_category(category):\n",
    "    print(f\"\\nProducts in Category: {category}\")\n",
    "    for product_id in product_order:\n",
    "        name, prod_category = products[product_id]['info']\n",
    "        stock = products[product_id]['stock']\n",
    "        if prod_category == category:\n",
    "            print(f\"ID: {product_id}, Name: {name}, Stock: {stock}\")\n",
    "\n",
    "def main():\n",
    "    while True:\n",
    "        print(\"\\nInventory Management System\")\n",
    "        print(\"1. Add Product\")\n",
    "        print(\"2. Update Stock\")\n",
    "        print(\"3. Display All Products\")\n",
    "        print(\"4. Display Products by Category\")\n",
    "        print(\"5. Exit\")\n",
    "        choice = input(\"Enter your choice: \")\n",
    "\n",
    "        if choice == '1':\n",
    "            product_id = input(\"Enter product ID: \")\n",
    "            name = input(\"Enter product name: \")\n",
    "            category = input(\"Enter product category: \")\n",
    "            stock = int(input(\"Enter stock quantity: \"))\n",
    "            add_product(product_id, name, category, stock)\n",
    "\n",
    "        elif choice == '2':\n",
    "            product_id = input(\"Enter product ID: \")\n",
    "            quantity = int(input(\"Enter quantity to update: \"))\n",
    "            update_stock(product_id, quantity)\n",
    "\n",
    "        elif choice == '3':\n",
    "            display_products()\n",
    "\n",
    "        elif choice == '4':\n",
    "            category = input(\"Enter category to display: \")\n",
    "            display_by_category(category)\n",
    "\n",
    "        elif choice == '5':\n",
    "            print(\"Exiting the Inventory Management System.\")\n",
    "            break\n",
    "\n",
    "        else:\n",
    "            print(\"Invalid choice. Please try again.\")\n",
    "\n",
    "if __name__ == \"__main__\":\n",
    "    main()\n"
   ]
  },
  {
   "cell_type": "code",
   "execution_count": null,
   "id": "271ece15-75fe-4bdd-b966-20536cb4f7d6",
   "metadata": {},
   "outputs": [],
   "source": []
  }
 ],
 "metadata": {
  "kernelspec": {
   "display_name": "Python 3 (ipykernel)",
   "language": "python",
   "name": "python3"
  },
  "language_info": {
   "codemirror_mode": {
    "name": "ipython",
    "version": 3
   },
   "file_extension": ".py",
   "mimetype": "text/x-python",
   "name": "python",
   "nbconvert_exporter": "python",
   "pygments_lexer": "ipython3",
   "version": "3.12.4"
  }
 },
 "nbformat": 4,
 "nbformat_minor": 5
}
