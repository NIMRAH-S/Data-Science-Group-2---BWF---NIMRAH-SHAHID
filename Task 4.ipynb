{
 "cells": [
  {
   "cell_type": "code",
   "execution_count": 1,
   "id": "53e63dfb-75c9-4673-b338-240d0c5bc4a8",
   "metadata": {},
   "outputs": [
    {
     "name": "stdout",
     "output_type": "stream",
     "text": [
      "    -------------------  \n",
      "   |    CALCULATOR      |      \n",
      "   |                    |      \n",
      "    --------------------  \n"
     ]
    },
    {
     "name": "stdin",
     "output_type": "stream",
     "text": [
      "Enter the first number:  2\n",
      "Enter the second number:  2\n",
      "Enter the arithmetic operator:  *\n"
     ]
    },
    {
     "name": "stdout",
     "output_type": "stream",
     "text": [
      "The result is: 4.0\n"
     ]
    }
   ],
   "source": [
    "def calculator():\n",
    "    print(\"    -------------------  \")\n",
    "    print(\"   |    CALCULATOR      |      \")\n",
    "    print(\"   |                    |      \")\n",
    "    print(\"    --------------------  \")\n",
    "\n",
    "    num1 = float(input(\"Enter the first number: \"))\n",
    "    num2 = float(input(\"Enter the second number: \"))\n",
    "    op = input(\"Enter the arithmetic operator: \")\n",
    "\n",
    "    if op == '+':\n",
    "        result = num1 + num2\n",
    "        print(f\"The result is: {result}\")\n",
    "    elif op == '-':\n",
    "        result = num1 - num2\n",
    "        print(f\"The result is: {result}\")\n",
    "    elif op == '*':\n",
    "        result = num1 * num2\n",
    "        print(f\"The result is: {result}\")\n",
    "    elif op == '/':\n",
    "        if num2 == 0:\n",
    "            print(\"Denominator cannot be Zero. Please try again\")\n",
    "        else:\n",
    "            result = num1 / num2\n",
    "            print(f\"The result is: {result}\")\n",
    "    else:\n",
    "        print(\"Wrong input. Please try again.\")\n",
    "\n",
    "if __name__ == \"__main__\":\n",
    "    calculator()\n"
   ]
  },
  {
   "cell_type": "code",
   "execution_count": null,
   "id": "34a50870-bb20-41b5-b295-4164fa3d71da",
   "metadata": {},
   "outputs": [],
   "source": []
  }
 ],
 "metadata": {
  "kernelspec": {
   "display_name": "Python 3 (ipykernel)",
   "language": "python",
   "name": "python3"
  },
  "language_info": {
   "codemirror_mode": {
    "name": "ipython",
    "version": 3
   },
   "file_extension": ".py",
   "mimetype": "text/x-python",
   "name": "python",
   "nbconvert_exporter": "python",
   "pygments_lexer": "ipython3",
   "version": "3.12.4"
  }
 },
 "nbformat": 4,
 "nbformat_minor": 5
}
