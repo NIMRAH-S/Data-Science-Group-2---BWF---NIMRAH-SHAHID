{
 "cells": [
  {
   "cell_type": "code",
   "execution_count": 1,
   "id": "c6eb8972-6122-4f5a-937e-47beb431e604",
   "metadata": {},
   "outputs": [
    {
     "name": "stdin",
     "output_type": "stream",
     "text": [
      "Enter the number of rows:  5\n"
     ]
    },
    {
     "name": "stdout",
     "output_type": "stream",
     "text": [
      "*********\n",
      " *******\n",
      "  *****\n",
      "   ***\n",
      "    *\n"
     ]
    }
   ],
   "source": [
    "#Pattern 2\n",
    "def main():\n",
    "    # Prompt the user to enter the number of rows\n",
    "    n = int(input(\"Enter the number of rows: \"))\n",
    "\n",
    "    for i in range(n, 0, -1):\n",
    "        # Print spaces\n",
    "        for j in range(n - i):\n",
    "            print(\" \", end=\"\")\n",
    "        # Print stars\n",
    "        for k in range(2 * i - 1):\n",
    "            print(\"*\", end=\"\")\n",
    "        # Move to the next line\n",
    "        print()\n",
    "\n",
    "if __name__ == \"__main__\":\n",
    "    main()\n"
   ]
  },
  {
   "cell_type": "code",
   "execution_count": null,
   "id": "d05a88ab-695d-440e-9379-63109013c361",
   "metadata": {},
   "outputs": [],
   "source": []
  }
 ],
 "metadata": {
  "kernelspec": {
   "display_name": "Python 3 (ipykernel)",
   "language": "python",
   "name": "python3"
  },
  "language_info": {
   "codemirror_mode": {
    "name": "ipython",
    "version": 3
   },
   "file_extension": ".py",
   "mimetype": "text/x-python",
   "name": "python",
   "nbconvert_exporter": "python",
   "pygments_lexer": "ipython3",
   "version": "3.12.4"
  }
 },
 "nbformat": 4,
 "nbformat_minor": 5
}
