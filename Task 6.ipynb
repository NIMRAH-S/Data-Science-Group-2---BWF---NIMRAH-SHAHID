{
 "cells": [
  {
   "cell_type": "code",
   "execution_count": null,
   "id": "49febc2b-cbb6-4360-bc26-b8d3a8993711",
   "metadata": {},
   "outputs": [
    {
     "name": "stdout",
     "output_type": "stream",
     "text": [
      "\n",
      "Student Management System\n",
      "1. Add Student\n",
      "2. Search Student\n",
      "3. Delete Student\n",
      "4. Display Students\n",
      "5. Exit\n"
     ]
    },
    {
     "name": "stdin",
     "output_type": "stream",
     "text": [
      "Enter your choice:  1\n",
      "Enter Student ID:  7897\n",
      "Enter Student Name:  Haseeb\n",
      "Enter Student Age:  18\n",
      "Enter Student Grade:  D-\n"
     ]
    },
    {
     "name": "stdout",
     "output_type": "stream",
     "text": [
      "Student added successfully.\n",
      "\n",
      "Student Management System\n",
      "1. Add Student\n",
      "2. Search Student\n",
      "3. Delete Student\n",
      "4. Display Students\n",
      "5. Exit\n"
     ]
    },
    {
     "name": "stdin",
     "output_type": "stream",
     "text": [
      "Enter your choice:  3\n",
      "Enter Student ID to delete:  7897\n"
     ]
    },
    {
     "name": "stdout",
     "output_type": "stream",
     "text": [
      "Student deleted successfully.\n",
      "\n",
      "Student Management System\n",
      "1. Add Student\n",
      "2. Search Student\n",
      "3. Delete Student\n",
      "4. Display Students\n",
      "5. Exit\n"
     ]
    },
    {
     "name": "stdin",
     "output_type": "stream",
     "text": [
      "Enter your choice:  3\n",
      "Enter Student ID to delete:  123\n"
     ]
    },
    {
     "name": "stdout",
     "output_type": "stream",
     "text": [
      "Student not found.\n",
      "\n",
      "Student Management System\n",
      "1. Add Student\n",
      "2. Search Student\n",
      "3. Delete Student\n",
      "4. Display Students\n",
      "5. Exit\n"
     ]
    },
    {
     "name": "stdin",
     "output_type": "stream",
     "text": [
      "Enter your choice:  4\n"
     ]
    },
    {
     "name": "stdout",
     "output_type": "stream",
     "text": [
      "ID: 23f0734, Name: Nimrah, Age: 19, Grade: A\n",
      "\n",
      "Student Management System\n",
      "1. Add Student\n",
      "2. Search Student\n",
      "3. Delete Student\n",
      "4. Display Students\n",
      "5. Exit\n"
     ]
    }
   ],
   "source": [
    "#File Hnadling\n",
    "\n",
    "import os\n",
    "\n",
    "def load_students(filename=\"students.txt\"):\n",
    "    students = []\n",
    "    if not os.path.exists(filename):\n",
    "        return students\n",
    "\n",
    "    with open(filename, \"r\") as file:\n",
    "        for line in file:\n",
    "            student_id, name, age, grade = line.strip().split(',')\n",
    "            students.append({\n",
    "                \"student_id\": student_id,\n",
    "                \"student_name\": name,\n",
    "                \"student_age\": int(age),\n",
    "                \"student_grade\": grade\n",
    "            })\n",
    "    return students\n",
    "\n",
    "def save_students(students, filename=\"students.txt\"):\n",
    "    with open(filename, \"w\") as file:\n",
    "        for student in students:\n",
    "            file.write(f'{student[\"student_id\"]},{student[\"student_name\"]},{student[\"student_age\"]},{student[\"student_grade\"]}\\n')\n",
    "\n",
    "def add_student(students, student):\n",
    "    for s in students:\n",
    "        if s[\"student_id\"] == student[\"student_id\"]:\n",
    "            print(\"Error: Student ID already exists.\")\n",
    "            return False\n",
    "    students.append(student)\n",
    "    return True\n",
    "\n",
    "def search_student(students, student_id):\n",
    "    for student in students:\n",
    "        if student[\"student_id\"] == student_id:\n",
    "            return student\n",
    "    return None\n",
    "\n",
    "def delete_student(students, student_id):\n",
    "    for i, student in enumerate(students):\n",
    "        if student[\"student_id\"] == student_id:\n",
    "            return students.pop(i)\n",
    "    return None\n",
    "\n",
    "def display_students(students):\n",
    "    if not students:\n",
    "        print(\"No students found.\")\n",
    "    else:\n",
    "        for student in students:\n",
    "            print(f'ID: {student[\"student_id\"]}, Name: {student[\"student_name\"]}, Age: {student[\"student_age\"]}, Grade: {student[\"student_grade\"]}')\n",
    "\n",
    "def main():\n",
    "    students = load_students()\n",
    "    while True:\n",
    "        print(\"\\nStudent Management System\")\n",
    "        print(\"1. Add Student\")\n",
    "        print(\"2. Search Student\")\n",
    "        print(\"3. Delete Student\")\n",
    "        print(\"4. Display Students\")\n",
    "        print(\"5. Exit\")\n",
    "        choice = input(\"Enter your choice: \")\n",
    "\n",
    "        if choice == '1':\n",
    "            student_id = input(\"Enter Student ID: \")\n",
    "            name = input(\"Enter Student Name: \")\n",
    "            age = input(\"Enter Student Age: \")\n",
    "            grade = input(\"Enter Student Grade: \")\n",
    "\n",
    "            if not student_id or not name or not age.isdigit() or not grade:\n",
    "                print(\"Invalid input. Please enter valid details.\")\n",
    "                continue\n",
    "\n",
    "            age = int(age)\n",
    "            student = {\"student_id\": student_id, \"student_name\": name, \"student_age\": age, \"student_grade\": grade}\n",
    "\n",
    "            if add_student(students, student):\n",
    "                save_students(students)\n",
    "                print(\"Student added successfully.\")\n",
    "\n",
    "        elif choice == '2':\n",
    "            student_id = input(\"Enter Student ID to search: \")\n",
    "            student = search_student(students, student_id)\n",
    "            if student:\n",
    "                print(f'ID: {student[\"student_id\"]}, Name: {student[\"student_name\"]}, Age: {student[\"student_age\"]}, Grade: {student[\"student_grade\"]}')\n",
    "            else:\n",
    "                print(\"Student not found.\")\n",
    "\n",
    "        elif choice == '3':\n",
    "            student_id = input(\"Enter Student ID to delete: \")\n",
    "            student = delete_student(students, student_id)\n",
    "            if student:\n",
    "                save_students(students)\n",
    "                print(\"Student deleted successfully.\")\n",
    "            else:\n",
    "                print(\"Student not found.\")\n",
    "\n",
    "        elif choice == '4':\n",
    "            display_students(students)\n",
    "\n",
    "        elif choice == '5':\n",
    "            break\n",
    "\n",
    "        else:\n",
    "            print(\"Invalid choice. Please try again.\")\n",
    "\n",
    "if __name__ == \"__main__\":\n",
    "    main()\n"
   ]
  },
  {
   "cell_type": "code",
   "execution_count": null,
   "id": "785d68f4-29bb-42d0-be7e-b11f759b6a74",
   "metadata": {},
   "outputs": [],
   "source": []
  }
 ],
 "metadata": {
  "kernelspec": {
   "display_name": "Python 3 (ipykernel)",
   "language": "python",
   "name": "python3"
  },
  "language_info": {
   "codemirror_mode": {
    "name": "ipython",
    "version": 3
   },
   "file_extension": ".py",
   "mimetype": "text/x-python",
   "name": "python",
   "nbconvert_exporter": "python",
   "pygments_lexer": "ipython3",
   "version": "3.12.4"
  }
 },
 "nbformat": 4,
 "nbformat_minor": 5
}
