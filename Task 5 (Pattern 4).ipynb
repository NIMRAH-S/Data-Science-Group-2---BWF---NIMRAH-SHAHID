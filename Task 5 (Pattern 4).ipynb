{
 "cells": [
  {
   "cell_type": "code",
   "execution_count": 1,
   "id": "8935ea90-cf45-4813-a5c9-daf4fe140417",
   "metadata": {},
   "outputs": [
    {
     "name": "stdin",
     "output_type": "stream",
     "text": [
      "Enter number of rows:  5\n"
     ]
    },
    {
     "name": "stdout",
     "output_type": "stream",
     "text": [
      "*\n",
      "**\n",
      "***\n",
      "****\n",
      "*****\n"
     ]
    }
   ],
   "source": [
    "#Pattern 4\n",
    "def main():\n",
    "    # Prompt the user to enter the number of rows\n",
    "    n = int(input(\"Enter number of rows: \"))\n",
    "\n",
    "    # Outer loop for each row\n",
    "    for i in range(1, n + 1):\n",
    "        # Inner loop for each column in the row\n",
    "        for j in range(1, i + 1):\n",
    "            print(\"*\", end=\"\")\n",
    "        # Print a newline at the end of each row\n",
    "        print()\n",
    "\n",
    "if __name__ == \"__main__\":\n",
    "    main()\n"
   ]
  },
  {
   "cell_type": "code",
   "execution_count": null,
   "id": "b58a6bf8-b3a1-474d-a9c4-8471e06d223a",
   "metadata": {},
   "outputs": [],
   "source": []
  }
 ],
 "metadata": {
  "kernelspec": {
   "display_name": "Python 3 (ipykernel)",
   "language": "python",
   "name": "python3"
  },
  "language_info": {
   "codemirror_mode": {
    "name": "ipython",
    "version": 3
   },
   "file_extension": ".py",
   "mimetype": "text/x-python",
   "name": "python",
   "nbconvert_exporter": "python",
   "pygments_lexer": "ipython3",
   "version": "3.12.4"
  }
 },
 "nbformat": 4,
 "nbformat_minor": 5
}
